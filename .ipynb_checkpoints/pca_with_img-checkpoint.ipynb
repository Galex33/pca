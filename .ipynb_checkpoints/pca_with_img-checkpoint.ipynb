{
 "cells": [
  {
   "cell_type": "markdown",
   "id": "6ec52853",
   "metadata": {
    "ExecuteTime": {
     "end_time": "2021-07-12T11:58:06.737804Z",
     "start_time": "2021-07-12T11:58:06.726626Z"
    }
   },
   "source": [
    "## Découverte de Keras"
   ]
  },
  {
   "cell_type": "markdown",
   "id": "a33abec6",
   "metadata": {},
   "source": [
    "Keras est une API d'apprentissage en profondeur écrite en Python, s'exécutant sur la plate-forme d'apprentissage automatique TensorFlow . Il a été développé dans le but de permettre une expérimentation rapide."
   ]
  },
  {
   "cell_type": "code",
   "execution_count": 2,
   "id": "7d4ba46f",
   "metadata": {
    "ExecuteTime": {
     "end_time": "2021-07-13T10:09:42.101834Z",
     "start_time": "2021-07-13T10:09:42.058467Z"
    }
   },
   "outputs": [
    {
     "ename": "ModuleNotFoundError",
     "evalue": "No module named 'import_lib'",
     "output_type": "error",
     "traceback": [
      "\u001b[1;31m---------------------------------------------------------------------------\u001b[0m",
      "\u001b[1;31mModuleNotFoundError\u001b[0m                       Traceback (most recent call last)",
      "\u001b[1;32m<ipython-input-2-6a611caeb0ad>\u001b[0m in \u001b[0;36m<module>\u001b[1;34m\u001b[0m\n\u001b[1;32m----> 1\u001b[1;33m \u001b[1;32mfrom\u001b[0m \u001b[0mpca_img\u001b[0m\u001b[1;33m.\u001b[0m\u001b[0mviz\u001b[0m \u001b[1;32mimport\u001b[0m \u001b[1;33m*\u001b[0m\u001b[1;33m\u001b[0m\u001b[1;33m\u001b[0m\u001b[0m\n\u001b[0m\u001b[0;32m      2\u001b[0m \u001b[1;32mfrom\u001b[0m \u001b[0mpca_img\u001b[0m\u001b[1;33m.\u001b[0m\u001b[0mmodel_dl\u001b[0m \u001b[1;32mimport\u001b[0m \u001b[1;33m*\u001b[0m\u001b[1;33m\u001b[0m\u001b[1;33m\u001b[0m\u001b[0m\n",
      "\u001b[1;32m~\\Desktop\\simplon_ia\\travaux\\referentiels\\etf_pca\\rendu\\pca_img\\viz.py\u001b[0m in \u001b[0;36m<module>\u001b[1;34m\u001b[0m\n\u001b[1;32m----> 1\u001b[1;33m \u001b[1;32mfrom\u001b[0m \u001b[0mimport_lib\u001b[0m \u001b[1;32mimport\u001b[0m \u001b[1;33m*\u001b[0m\u001b[1;33m\u001b[0m\u001b[1;33m\u001b[0m\u001b[0m\n\u001b[0m\u001b[0;32m      2\u001b[0m \u001b[1;32mfrom\u001b[0m \u001b[0mtransform_data\u001b[0m \u001b[1;32mimport\u001b[0m \u001b[1;33m*\u001b[0m\u001b[1;33m\u001b[0m\u001b[1;33m\u001b[0m\u001b[0m\n\u001b[0;32m      3\u001b[0m \u001b[1;33m\u001b[0m\u001b[0m\n\u001b[0;32m      4\u001b[0m \u001b[1;32mdef\u001b[0m \u001b[0mtrain_test_shape_labels\u001b[0m\u001b[1;33m(\u001b[0m\u001b[0mx_train\u001b[0m\u001b[1;33m,\u001b[0m \u001b[0mx_test\u001b[0m\u001b[1;33m,\u001b[0m \u001b[0my_train\u001b[0m\u001b[1;33m,\u001b[0m \u001b[0my_test\u001b[0m\u001b[1;33m)\u001b[0m\u001b[1;33m:\u001b[0m\u001b[1;33m\u001b[0m\u001b[1;33m\u001b[0m\u001b[0m\n\u001b[0;32m      5\u001b[0m     \u001b[0mclasses\u001b[0m \u001b[1;33m=\u001b[0m \u001b[0mnp\u001b[0m\u001b[1;33m.\u001b[0m\u001b[0munique\u001b[0m\u001b[1;33m(\u001b[0m\u001b[0my_train\u001b[0m\u001b[1;33m)\u001b[0m\u001b[1;33m\u001b[0m\u001b[1;33m\u001b[0m\u001b[0m\n",
      "\u001b[1;31mModuleNotFoundError\u001b[0m: No module named 'import_lib'"
     ]
    }
   ],
   "source": [
    "from pca_img.viz import *\n",
    "from pca_img.model_dl import *"
   ]
  },
  {
   "cell_type": "code",
   "execution_count": null,
   "id": "09a60a15",
   "metadata": {
    "ExecuteTime": {
     "end_time": "2021-07-13T10:08:58.083943Z",
     "start_time": "2021-07-13T10:08:57.411Z"
    }
   },
   "outputs": [],
   "source": [
    "# renvoie des images d'entraînement et de test avec les étiquettes.\n",
    "(x_train, y_train), (x_test, y_test) = cifar10.load_data()"
   ]
  },
  {
   "cell_type": "markdown",
   "id": "a70391fb",
   "metadata": {},
   "source": [
    "## Exploration des dimmensions "
   ]
  },
  {
   "cell_type": "code",
   "execution_count": null,
   "id": "47a7785e",
   "metadata": {
    "ExecuteTime": {
     "end_time": "2021-07-13T10:08:58.088929Z",
     "start_time": "2021-07-13T10:08:57.422Z"
    }
   },
   "outputs": [],
   "source": [
    "train_test_shape_labels(x_train, x_test, y_train, y_test)"
   ]
  },
  {
   "cell_type": "markdown",
   "id": "1edb5b6c",
   "metadata": {},
   "source": [
    "## Visualisation des images"
   ]
  },
  {
   "cell_type": "code",
   "execution_count": null,
   "id": "33b6bb95",
   "metadata": {
    "ExecuteTime": {
     "end_time": "2021-07-13T10:08:58.094911Z",
     "start_time": "2021-07-13T10:08:57.447Z"
    }
   },
   "outputs": [],
   "source": [
    "viz_img(x_train, y_train, 0, 0), viz_img(x_test, y_test, 0, 0)"
   ]
  },
  {
   "cell_type": "markdown",
   "id": "4fb01dde",
   "metadata": {},
   "source": [
    "## Vérification des valeurs maximales et minimales des images d'entrainement "
   ]
  },
  {
   "cell_type": "code",
   "execution_count": null,
   "id": "38696438",
   "metadata": {
    "ExecuteTime": {
     "end_time": "2021-07-13T10:08:58.100898Z",
     "start_time": "2021-07-13T10:08:57.461Z"
    }
   },
   "outputs": [],
   "source": [
    "min_max_img(x_train)"
   ]
  },
  {
   "cell_type": "markdown",
   "id": "9bd5977e",
   "metadata": {},
   "source": [
    "## Applatissement des images, de quatre à 2 dimmensions"
   ]
  },
  {
   "cell_type": "code",
   "execution_count": null,
   "id": "d3cf2eb0",
   "metadata": {
    "ExecuteTime": {
     "end_time": "2021-07-13T10:08:58.105883Z",
     "start_time": "2021-07-13T10:08:57.472Z"
    }
   },
   "outputs": [],
   "source": [
    "# 3072 correspond au nbr de pixel des images \n",
    "x_train_flat = x_train.reshape(-1,3072)\n",
    "x_train_flat.shape"
   ]
  },
  {
   "cell_type": "code",
   "execution_count": null,
   "id": "d990240c",
   "metadata": {
    "ExecuteTime": {
     "end_time": "2021-07-13T10:08:58.109873Z",
     "start_time": "2021-07-13T10:08:57.479Z"
    }
   },
   "outputs": [],
   "source": [
    "feat_cols = ['pixel'+ str(i) for i in range(x_train_flat.shape[1])]"
   ]
  },
  {
   "cell_type": "markdown",
   "id": "8fb774fc",
   "metadata": {},
   "source": [
    "## Création d'un DF de 3073 columns, 3072 pixel plus les labels"
   ]
  },
  {
   "cell_type": "code",
   "execution_count": null,
   "id": "c80c8ba4",
   "metadata": {
    "ExecuteTime": {
     "end_time": "2021-07-13T10:08:58.114860Z",
     "start_time": "2021-07-13T10:08:57.488Z"
    }
   },
   "outputs": [],
   "source": [
    "df_cifar = create_df(x_train, y_train)"
   ]
  },
  {
   "cell_type": "code",
   "execution_count": null,
   "id": "83747115",
   "metadata": {
    "ExecuteTime": {
     "end_time": "2021-07-13T10:08:58.119846Z",
     "start_time": "2021-07-13T10:08:57.499Z"
    }
   },
   "outputs": [],
   "source": [
    "df_cifar.head()"
   ]
  },
  {
   "cell_type": "markdown",
   "id": "649053bc",
   "metadata": {},
   "source": [
    "# Méthode PCA"
   ]
  },
  {
   "cell_type": "markdown",
   "id": "cf3c4eb5",
   "metadata": {},
   "source": [
    "## Application de la méthode PCA avec deux composants principaux"
   ]
  },
  {
   "cell_type": "code",
   "execution_count": null,
   "id": "c42291fb",
   "metadata": {
    "ExecuteTime": {
     "end_time": "2021-07-13T10:08:58.123835Z",
     "start_time": "2021-07-13T10:08:57.509Z"
    }
   },
   "outputs": [],
   "source": [
    "principal_cifar_Df = pca_apply(x_train, y_train, 2)"
   ]
  },
  {
   "cell_type": "markdown",
   "id": "ed4f0e36",
   "metadata": {
    "ExecuteTime": {
     "end_time": "2021-07-13T09:11:01.974822Z",
     "start_time": "2021-07-13T09:11:01.964851Z"
    }
   },
   "source": [
    "Quantité décente d'informations par les composants principaux 1 et 2, passé de 3072 dimension a 2 composants principaux.\n",
    "Certain chevauchement de classes sémantiques dans cet ensemble de données, une grenouille peut avoir une forme légèrement similaire à celle d'un chat ou d'un cerf avec un chien ; surtout lorsqu'il est projeté dans un espace à deux dimensions."
   ]
  },
  {
   "cell_type": "code",
   "execution_count": null,
   "id": "567e5217",
   "metadata": {
    "ExecuteTime": {
     "end_time": "2021-07-13T10:08:58.128824Z",
     "start_time": "2021-07-13T10:08:57.518Z"
    }
   },
   "outputs": [],
   "source": [
    "principal_cifar_Df.head()"
   ]
  },
  {
   "cell_type": "code",
   "execution_count": null,
   "id": "58939a9a",
   "metadata": {
    "ExecuteTime": {
     "end_time": "2021-07-13T10:08:58.135802Z",
     "start_time": "2021-07-13T10:08:57.526Z"
    }
   },
   "outputs": [],
   "source": [
    "scatter_component(principal_cifar_Df)"
   ]
  },
  {
   "cell_type": "markdown",
   "id": "f68cf5cc",
   "metadata": {},
   "source": [
    "Les points appartenant à une même classe sont proches les uns des autres, et les points ou images sémantiquement très différents sont plus éloignés les uns des autres."
   ]
  },
  {
   "cell_type": "markdown",
   "id": "541a3787",
   "metadata": {
    "ExecuteTime": {
     "end_time": "2021-07-12T13:57:50.462590Z",
     "start_time": "2021-07-12T13:57:50.443641Z"
    }
   },
   "source": [
    "## Normalisation des données de test"
   ]
  },
  {
   "cell_type": "code",
   "execution_count": null,
   "id": "84d45893",
   "metadata": {
    "ExecuteTime": {
     "end_time": "2021-07-13T10:08:58.141791Z",
     "start_time": "2021-07-13T10:08:57.535Z"
    }
   },
   "outputs": [],
   "source": [
    "x_test_flat = normalize_test(x_test)"
   ]
  },
  {
   "cell_type": "markdown",
   "id": "19990d7f",
   "metadata": {},
   "source": [
    "## Instanciation  du modéle de PCA avec 90 % de la variance"
   ]
  },
  {
   "cell_type": "code",
   "execution_count": null,
   "id": "8d8422ea",
   "metadata": {
    "ExecuteTime": {
     "end_time": "2021-07-13T10:08:58.147771Z",
     "start_time": "2021-07-13T10:08:57.542Z"
    }
   },
   "outputs": [],
   "source": [
    "y_train, y_test, train_img_pca, test_img_pca = pca_percentage(x_train_flat, x_test_flat, y_train, y_test, 0.9)"
   ]
  },
  {
   "cell_type": "markdown",
   "id": "849757c0",
   "metadata": {},
   "source": [
    "## Compilation et entrainement du modèle"
   ]
  },
  {
   "cell_type": "code",
   "execution_count": null,
   "id": "1e3677f4",
   "metadata": {
    "ExecuteTime": {
     "end_time": "2021-07-13T10:08:58.152760Z",
     "start_time": "2021-07-13T10:08:57.550Z"
    }
   },
   "outputs": [],
   "source": [
    "sequential_model_fit(128, 10, 20, 'accuracy', train_img_pca, y_train, test_img_pca, y_test, 99)"
   ]
  },
  {
   "cell_type": "code",
   "execution_count": null,
   "id": "02021803",
   "metadata": {
    "ExecuteTime": {
     "end_time": "2021-07-13T10:08:58.158742Z",
     "start_time": "2021-07-13T10:08:57.555Z"
    }
   },
   "outputs": [],
   "source": [
    "sequential_model_fit(128, 10, 20, 'accuracy', x_train_flat, y_train, x_test_flat, y_test, 3072)"
   ]
  },
  {
   "cell_type": "code",
   "execution_count": null,
   "id": "faf83c3b",
   "metadata": {
    "ExecuteTime": {
     "end_time": "2021-07-13T10:08:58.163734Z",
     "start_time": "2021-07-13T10:08:57.561Z"
    }
   },
   "outputs": [],
   "source": [
    "# model = Sequential()\n",
    "# model.add(Dense(1024, activation='relu', input_shape=(3072,)))\n",
    "# model.add(Dense(1024, activation='relu'))\n",
    "# model.add(Dense(512, activation='relu'))\n",
    "# model.add(Dense(256, activation='relu'))\n",
    "# model.add(Dense(10, activation='softmax'))\n",
    "# model.compile(loss='categorical_crossentropy',\n",
    "#               optimizer=RMSprop(),\n",
    "#               metrics=['accuracy'])\n",
    "# history = model.fit(x_train_flat, y_train,batch_size=128,epochs=20,verbose=1,\n",
    "#                     validation_data=(x_test_flat, y_test))"
   ]
  },
  {
   "cell_type": "markdown",
   "id": "febd1392",
   "metadata": {},
   "source": [
    "En comparant le modéle eaffecté par la PCA et celui concernant les donénes brut on observe une plus grande rapidité dans l'apprentissage du modèle avec PCA. On note aussi une meilleur accuracy et donc une plus grande précission du modèle avec PCA. "
   ]
  },
  {
   "cell_type": "code",
   "execution_count": null,
   "id": "6e9047fe",
   "metadata": {},
   "outputs": [],
   "source": []
  }
 ],
 "metadata": {
  "interpreter": {
   "hash": "b57b0ba709768a7bbbc5b5f9f052a7cbe42e1ac711dd327dca942e98c95c92b1"
  },
  "kernelspec": {
   "display_name": "Python 3",
   "language": "python",
   "name": "python3"
  },
  "language_info": {
   "codemirror_mode": {
    "name": "ipython",
    "version": 3
   },
   "file_extension": ".py",
   "mimetype": "text/x-python",
   "name": "python",
   "nbconvert_exporter": "python",
   "pygments_lexer": "ipython3",
   "version": "3.8.8"
  },
  "toc": {
   "base_numbering": 1,
   "nav_menu": {},
   "number_sections": true,
   "sideBar": true,
   "skip_h1_title": false,
   "title_cell": "Table of Contents",
   "title_sidebar": "Contents",
   "toc_cell": false,
   "toc_position": {},
   "toc_section_display": true,
   "toc_window_display": false
  }
 },
 "nbformat": 4,
 "nbformat_minor": 5
}
